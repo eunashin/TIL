{
 "cells": [
  {
   "cell_type": "markdown",
   "id": "766db129",
   "metadata": {},
   "source": [
    "# 파이썬 크롤링 기초1 - select, select_one"
   ]
  },
  {
   "cell_type": "code",
   "execution_count": null,
   "id": "1ad0d973",
   "metadata": {},
   "outputs": [],
   "source": []
  }
 ],
 "metadata": {
  "kernelspec": {
   "display_name": "Python 3 (ipykernel)",
   "language": "python",
   "name": "python3"
  },
  "language_info": {
   "codemirror_mode": {
    "name": "ipython",
    "version": 3
   },
   "file_extension": ".py",
   "mimetype": "text/x-python",
   "name": "python",
   "nbconvert_exporter": "python",
   "pygments_lexer": "ipython3",
   "version": "3.9.7"
  }
 },
 "nbformat": 4,
 "nbformat_minor": 5
}
